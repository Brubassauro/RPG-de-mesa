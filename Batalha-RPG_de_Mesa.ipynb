{
  "nbformat": 4,
  "nbformat_minor": 0,
  "metadata": {
    "colab": {
      "name": "Batalha - RPG de Mesa",
      "provenance": []
    },
    "kernelspec": {
      "name": "python3",
      "display_name": "Python 3"
    }
  },
  "cells": [
    {
      "cell_type": "code",
      "metadata": {
        "id": "EVGREcP2nyrI",
        "colab_type": "code",
        "outputId": "b71bd284-9a5f-48dd-d097-d800d39261a7",
        "colab": {
          "base_uri": "https://localhost:8080/",
          "height": 1000
        }
      },
      "source": [
        "# PROGRAMA PESSOAL PARA FACILITAR AS CONTAS POR PARTE DO MESTRE DURANTE UMA BATALHA DE RPG DE MESA\n",
        "# O MODELO DE RPG UTILIZADO É DE MINHA AUTORIA E RESGATA ELEMENTOS DE OUTROS MODELOS\n",
        "# A INTENÇÃO É O PROGRAMA LEVAR EM CONTA TODOS OS ATRIBUTOS DOS PERSONAGENS (CLASSE,RAÇA,ARMA,ARMADURA,STATS)\n",
        "# E CALCULAR O DANO, PERDA DE MANA PLOTANDO O GRÁFICO DE BATALHA E AUXILIANDO NOS TURNOS\n",
        "\n",
        "import numpy as np\n",
        "import matplotlib.pyplot as plt\n",
        "\n",
        "class char:\n",
        "  def __init__(self,nome,raça,classe,lv,stats,skill,arma,armor):\n",
        "    self.nome=nome\n",
        "    self.raça=raça\n",
        "    self.classe=classe\n",
        "    self.stats=stats\n",
        "    self.lv=lv\n",
        "    self.FOR=stats[0]\n",
        "    self.VIT=stats[1]\n",
        "    self.RES=stats[2]\n",
        "    self.HAB=stats[3]\n",
        "    self.INT=stats[4]\n",
        "    self.skill=skill\n",
        "    self.arma=arma\n",
        "    self.armor=armor\n",
        "    self.hpmax=0\n",
        "    self.mpmax=0\n",
        "    ##########################################\n",
        "    #RAÇAS\n",
        "    if self.raça=='humano':\n",
        "      self.hpmax+= 5+3*self.VIT+3*self.lv\n",
        "    if self.raça=='goblin':\n",
        "      self.hpmax+= 5+2*self.VIT+2*self.lv\n",
        "    if self.raça=='elfo':\n",
        "      self.hpmax+= 5+2*self.VIT+3*self.lv\n",
        "    if self.raça=='semitank':\n",
        "      self.hpmax+= 10+4*self.VIT+3*self.lv\n",
        "    #CLASSES\n",
        "    if self.classe=='mago':\n",
        "      self.mpmax+=10+2*self.INT+3*self.lv\n",
        "    if self.classe=='guerreiro':\n",
        "      self.mpmax+= 5+2*self.INT+2*self.lv\n",
        "    if self.classe=='ladino':\n",
        "      self.mpmax+= 5+2*self.INT+2*self.lv\n",
        "    ##########################################\n",
        "    self.hp=self.hpmax\n",
        "    self.mp=self.mpmax\n",
        "  def nome(self):\n",
        "    return self.nome\n",
        "  def FOR(self):\n",
        "    return self.FOR\n",
        "  def VIT(self):\n",
        "    return self.VIT\n",
        "  def RES(self):\n",
        "    return self.RES\n",
        "  def HAB(self):\n",
        "    return self.HAB\n",
        "  def INT(self):\n",
        "    return self.INT\n",
        "  def stats(self):\n",
        "    return self.stats\n",
        "  def hpmax(self):\n",
        "    return self.hpmax\n",
        "  def mpmax(self):\n",
        "    return self.mpmax\n",
        "  def hp(self):\n",
        "    return self.hp\n",
        "  def mp(self):\n",
        "    return self.mp\n",
        "  def hpset(self,dano):\n",
        "    if self.hp>=dano:\n",
        "      self.hp+=-dano\n",
        "    else:\n",
        "      self.hp=0\n",
        "  def mpset(self,custo):\n",
        "    if self.mp>=custo:\n",
        "      self.mp+=-custo\n",
        "    else:\n",
        "      self.mp=0\n",
        "  def skill(self):\n",
        "    return self.skill\n",
        "  def arma(self):\n",
        "    return self.arma\n",
        "  def armor(self):\n",
        "    return self.armor\n",
        "\n",
        "class skill:\n",
        "  def __init__(self,nome,mp,hp,scale):\n",
        "    self.nome=nome\n",
        "    self.mp=mp\n",
        "    self.hp=hp\n",
        "    self.scale=scale\n",
        "    self.FOR=scale[0]\n",
        "    self.VIT=scale[1]\n",
        "    self.RES=scale[2]\n",
        "    self.HAB=scale[3]\n",
        "    self.INT=scale[4]\n",
        "  def nome(self):\n",
        "    return self.nome\n",
        "  def mp(self):\n",
        "    return self.mp\n",
        "  def hp(self):\n",
        "    return self.hp\n",
        "  def scale(self):\n",
        "    return self.scale\n",
        "  def FOR(self):\n",
        "    return self.FOR\n",
        "  def VIT(self):\n",
        "    return self.VIT\n",
        "  def RES(self):\n",
        "    return self.RES\n",
        "  def HAB(self):\n",
        "    return self.HAB\n",
        "  def INT(self):\n",
        "    return self.INT\n",
        "\n",
        "################################################################################################\n",
        "#LISTA DE HABILIDADES\n",
        "Ataque=skill('Ataque físico',0,0,[1,0,0,0,0])\n",
        "Ataquemag=skill('Concentração arcana',2,0,[0,0,0,0,1])\n",
        "Boladefogo=skill('Bola de fogo',6,0,[0,0,0,1,2])\n",
        "Martelada=skill('Martelada',4,0,[2,0,0,1,0])\n",
        "Flechacelestial=skill('Flecha celestial',4,0,[0,0,0,1,1])\n",
        "\n",
        "# LISTA DE PERSONAGENS    \n",
        "Goblin=char('Goblin','goblin','guerreiro',4,[5,4,4,5,3],[Ataque],6,6)\n",
        "Goblinchefe=char('Goblin Chefe','goblin','guerreiro',8,[7,6,5,5,5],[Ataque,Martelada],10,8)\n",
        "Nopad=char('Herculinhos','humano','mago',4,[3,4,4,5,6],[Ataque,Ataquemag,Boladefogo],8,6)\n",
        "Lolo=char('Josué','humano','mago',16,[4,6,4,7,7],[Ataque,Boladefogo],20,12)\n",
        "Hugo=char('Zwinglio','humano','guerreiro',16,[8,5,9,5,1],[Ataque,Martelada],20,20)\n",
        "################################################################################################\n",
        "\n",
        "def ataque(personagem):\n",
        "  dano=0\n",
        "  print('Escolha:')\n",
        "  for i in range(len(char.skill(personagem))):\n",
        "    print(i+1,'-',skill.nome(char.skill(personagem)[i]))\n",
        "  s=int(input(''))\n",
        "  if char.mp(personagem)<skill.mp(char.skill(personagem)[s-1]):\n",
        "    print(char.nome(personagem),'não possui mana o suficiente!')\n",
        "    dano+=ataque(personagem)\n",
        "  elif char.hp(personagem)<skill.hp(char.skill(personagem)[s-1]):\n",
        "    print(char.nome(personagem),'não possui HP o suficiente!')\n",
        "    dano+=ataque(personagem)\n",
        "  else:\n",
        "    char.mpset(personagem,skill.mp(char.skill(personagem)[s-1]))\n",
        "    char.hpset(personagem,skill.hp(char.skill(personagem)[s-1]))\n",
        "    dano+=int(input('Role 1d%s para o ataque de %s : ' % (char.arma(personagem),char.nome(personagem))))\n",
        "    for i in range(5):\n",
        "      dano+=char.stats(personagem)[i]*(skill.scale(char.skill(personagem)[s-1])[i])\n",
        "  return dano\n",
        "\n",
        "def defesa(personagem):\n",
        "    d=0\n",
        "    d+=int(input('Role 1d%s para defesa de %s : '  % (char.armor(personagem),char.nome(personagem))))\n",
        "    d+=char.RES(personagem)\n",
        "    return d\n",
        "  \n",
        "    \n",
        "def plot(L):\n",
        "  for i in range(len(L)):\n",
        "    plt.plot([0,char.hp(L[i])],[char.nome(L[i]),char.nome(L[i])],color='red')\n",
        "    plt.plot([char.hp(L[i]),char.hpmax(L[i])],[char.nome(L[i]),char.nome(L[i])],color=\"gray\")\n",
        "    plt.plot([0,char.mp(L[i])],[i-0.05,i-0.05],color='blue')\n",
        "    plt.plot([char.mp(L[i]),char.mpmax(L[i])],[i-0.05,i-0.05],color=\"gray\")\n",
        "  plt.show()\n",
        "def turno(L,T):\n",
        "  for i in range(len(L)):\n",
        "    if char.hp(L[i])>0:\n",
        "      print('Vez de ',char.nome(L[i]),'!')\n",
        "      print('Escolha o alvo:')\n",
        "      for k in range(len(L)):\n",
        "        print(k+1,'-',char.nome(L[k]))\n",
        "      alvo=L[int(input(''))-1]\n",
        "      d=0\n",
        "      d+=ataque(L[i])\n",
        "      r=0\n",
        "      r+=defesa(alvo)\n",
        "      if d>=r:\n",
        "        d-=r\n",
        "      else:\n",
        "        d=0\n",
        "      char.hpset(alvo,d)\n",
        "      print(char.nome(L[i]), 'infligiu', d, 'de dano em',char.nome(alvo),'!')\n",
        "      plot(L)\n",
        "      Z1=[]\n",
        "      Z2=[]\n",
        "      T1=[]\n",
        "      T2=[]\n",
        "      for i in range(len(L)):\n",
        "        if T[i]==1:\n",
        "          T1=T1+[char.hp(L[i])]\n",
        "          Z1=Z1+[0]\n",
        "        if T[i]==2:\n",
        "          T2=T2+[char.hp(L[i])]\n",
        "          Z2=Z2+[0]\n",
        "      if T1==Z1 or T2==Z2:\n",
        "        break\n",
        "  if T1==Z1 or T2==Z2:\n",
        "    print('A luta terminou!')\n",
        "  else:\n",
        "    turno(L,T)\n",
        "    \n",
        "    \n",
        "    \n",
        "def batalha(L,T): #L lista em ordem de ataque. L lis''ta dizendo para cada i de L se é \"1\" de amigo ou \"2\" de inimigo\n",
        "  print('Vamos começar a batalha!')\n",
        "  plot(L)\n",
        "  turno(L,T)\n",
        "  \n",
        "batalha([Nopad,Lolo,Goblin,Goblinchefe],[1,1,2,2])"
      ],
      "execution_count": 0,
      "outputs": [
        {
          "output_type": "stream",
          "text": [
            "Vamos começar a batalha!\n"
          ],
          "name": "stdout"
        },
        {
          "output_type": "display_data",
          "data": {
            "image/png": "[encoded data removed]",
            "text/plain": [
              "<Figure size 432x288 with 1 Axes>"
            ]
          },
          "metadata": {
            "tags": []
          }
        },
        {
          "output_type": "stream",
          "text": [
            "Vez de  Herculinhos !\n",
            "Escolha o alvo:\n",
            "1 - Herculinhos\n",
            "2 - Josué\n",
            "3 - Goblin\n",
            "4 - Goblin Chefe\n",
            "3\n",
            "Escolha:\n",
            "1 - Ataque físico\n",
            "2 - Concentração arcana\n",
            "3 - Bola de fogo\n",
            "3\n",
            "Role 1d8 para o ataque de Herculinhos : 7\n",
            "Role 1d6 para defesa de Goblin : 4\n",
            "Herculinhos infligiu 16 de dano em Goblin !\n"
          ],
          "name": "stdout"
        },
        {
          "output_type": "display_data",
          "data": {
            "image/png": "[encoded data removed]",
            "text/plain": [
              "<Figure size 432x288 with 1 Axes>"
            ]
          },
          "metadata": {
            "tags": []
          }
        },
        {
          "output_type": "stream",
          "text": [
            "Vez de  Josué !\n",
            "Escolha o alvo:\n",
            "1 - Herculinhos\n",
            "2 - Josué\n",
            "3 - Goblin\n",
            "4 - Goblin Chefe\n",
            "4\n",
            "Escolha:\n",
            "1 - Ataque físico\n",
            "2 - Bola de fogo\n",
            "2\n",
            "Role 1d20 para o ataque de Josué : 20\n",
            "Role 1d8 para defesa de Goblin Chefe : 3\n",
            "Josué infligiu 33 de dano em Goblin Chefe !\n"
          ],
          "name": "stdout"
        },
        {
          "output_type": "display_data",
          "data": {
            "image/png": "[encoded data removed]",
            "text/plain": [
              "<Figure size 432x288 with 1 Axes>"
            ]
          },
          "metadata": {
            "tags": []
          }
        },
        {
          "output_type": "stream",
          "text": [
            "Vez de  Goblin !\n",
            "Escolha o alvo:\n",
            "1 - Herculinhos\n",
            "2 - Josué\n",
            "3 - Goblin\n",
            "4 - Goblin Chefe\n",
            "1\n",
            "Escolha:\n",
            "1 - Ataque físico\n",
            "1\n",
            "Role 1d6 para o ataque de Goblin : 5\n",
            "Role 1d6 para defesa de Herculinhos : 3\n",
            "Goblin infligiu 3 de dano em Herculinhos !\n"
          ],
          "name": "stdout"
        },
        {
          "output_type": "display_data",
          "data": {
            "image/png": "[encoded data removed]",
            "text/plain": [
              "<Figure size 432x288 with 1 Axes>"
            ]
          },
          "metadata": {
            "tags": []
          }
        },
        {
          "output_type": "stream",
          "text": [
            "Vez de  Herculinhos !\n",
            "Escolha o alvo:\n",
            "1 - Herculinhos\n",
            "2 - Josué\n",
            "3 - Goblin\n",
            "4 - Goblin Chefe\n",
            "3\n",
            "Escolha:\n",
            "1 - Ataque físico\n",
            "2 - Concentração arcana\n",
            "3 - Bola de fogo\n",
            "2\n",
            "Role 1d8 para o ataque de Herculinhos : 5\n",
            "Role 1d6 para defesa de Goblin : 6\n",
            "Herculinhos infligiu 1 de dano em Goblin !\n"
          ],
          "name": "stdout"
        },
        {
          "output_type": "display_data",
          "data": {
            "image/png": "[encoded data removed]",
            "text/plain": [
              "<Figure size 432x288 with 1 Axes>"
            ]
          },
          "metadata": {
            "tags": []
          }
        },
        {
          "output_type": "stream",
          "text": [
            "Vez de  Josué !\n",
            "Escolha o alvo:\n",
            "1 - Herculinhos\n",
            "2 - Josué\n",
            "3 - Goblin\n",
            "4 - Goblin Chefe\n",
            "3\n",
            "Escolha:\n",
            "1 - Ataque físico\n",
            "2 - Bola de fogo\n",
            "2\n",
            "Role 1d20 para o ataque de Josué : 14\n",
            "Role 1d6 para defesa de Goblin : 2\n",
            "Josué infligiu 29 de dano em Goblin !\n"
          ],
          "name": "stdout"
        },
        {
          "output_type": "display_data",
          "data": {
            "image/png": "[encoded data removed]",
            "text/plain": [
              "<Figure size 432x288 with 1 Axes>"
            ]
          },
          "metadata": {
            "tags": []
          }
        },
        {
          "output_type": "stream",
          "text": [
            "A luta terminou!\n"
          ],
          "name": "stdout"
        }
      ]
    }
  ]
}